{
 "cells": [
  {
   "cell_type": "markdown",
   "metadata": {},
   "source": [
    "1. Implementasi Normalisasi"
   ]
  },
  {
   "cell_type": "code",
   "execution_count": 2,
   "metadata": {},
   "outputs": [
    {
     "name": "stdout",
     "output_type": "stream",
     "text": [
      "[0.0, 0.16666666666666666, 0.3333333333333333, 0.6666666666666666, 1.0]\n"
     ]
    }
   ],
   "source": [
    "def norm_data(data):\n",
    "    '''\n",
    "    Melakukan normalisasi data.\n",
    "\n",
    "    Parameters:\n",
    "    data (list) : Data yang akan dinormalisasi\n",
    "\n",
    "    Returns:\n",
    "    data (list) : Data hasil normalisasi\n",
    "    \n",
    "    '''\n",
    "    data_max = max(data)\n",
    "    data_min = min(data)\n",
    "    data_len = len(data)\n",
    "\n",
    "    for i in range(data_len):\n",
    "        data[i] = (data[i] - data_min) / (data_max - data_min)\n",
    "\n",
    "    return data\n",
    "\n",
    "# Contoh Penggunaan\n",
    "data = [10, 11, 12, 14, 16]\n",
    "n_data = norm_data(data)\n",
    "print(n_data)\n"
   ]
  },
  {
   "cell_type": "code",
   "execution_count": 4,
   "metadata": {},
   "outputs": [
    {
     "name": "stdout",
     "output_type": "stream",
     "text": [
      "Data Asli\n",
      "[[100.       0.0001]\n",
      " [ 50.       0.05  ]\n",
      " [ 30.       0.003 ]]\n",
      "Data Normalisasi\n",
      "[[1.       0.      ]\n",
      " [0.285714 1.      ]\n",
      " [0.       0.058116]]\n"
     ]
    }
   ],
   "source": [
    "import numpy as np\n",
    "from sklearn.preprocessing import MinMaxScaler\n",
    "\n",
    "np.set_printoptions (precision=6) # bulatkan 4 angkat koma\n",
    "np.set_printoptions (suppress=True) # hilangkan nilai e\n",
    "\n",
    "# Kita akan membentuk data\n",
    "# Hal ini dikarenakan, scikit-learn hanya menerima input\n",
    "# dalam bentuk n-dimensional array\n",
    "data = [\n",
    "[100, 0.0001],\n",
    "[50, 0.05],\n",
    "[30, 0.003]\n",
    "]\n",
    "\n",
    "# Ubah ke bentuk numpy n-dimensional array\n",
    "data = np.asarray(data)\n",
    "print('Data Asli' )\n",
    "print(data)\n",
    "\n",
    "# Mendefinisikan obyek MinMaxScaler\n",
    "scaler = MinMaxScaler ()\n",
    "# Transformasikan data\n",
    "scaled = scaler.fit_transform(data)\n",
    "print('Data Normalisasi' )\n",
    "print (scaled)"
   ]
  },
  {
   "cell_type": "markdown",
   "metadata": {},
   "source": [
    "2. Implementasi Standarisasi"
   ]
  },
  {
   "cell_type": "code",
   "execution_count": 1,
   "metadata": {},
   "outputs": [
    {
     "name": "stdout",
     "output_type": "stream",
     "text": [
      "Data Asli\n",
      "[[100.       0.0001]\n",
      " [ 50.       0.05  ]\n",
      " [ 30.       0.003 ]]\n",
      "Data Standarisasi\n",
      "[[ 1.358732 -0.76956 ]\n",
      " [-0.339683  1.412317]\n",
      " [-1.019049 -0.642757]]\n"
     ]
    }
   ],
   "source": [
    "import numpy as np\n",
    "from sklearn.preprocessing import StandardScaler\n",
    "\n",
    "np.set_printoptions (precision=6) # bulatkan 4 angkat koma\n",
    "np.set_printoptions (suppress=True) # hilangkan nilai e\n",
    "\n",
    "# Kita akan membentuk data\n",
    "# Hal ini dikarenakan, scikit-learn hanya menerima input\n",
    "# dalam bentuk n-dimensional array\n",
    "data = [\n",
    "[100, 0.0001],\n",
    "[50, 0.05],\n",
    "[30, 0.003]\n",
    "]\n",
    "\n",
    "# Ubah ke bentuk numpy n-dimensional array\n",
    "data = np.asarray(data)\n",
    "print ('Data Asli' )\n",
    "print(data)\n",
    "\n",
    "# Mendefinisikan obyek MinMaxScaler\n",
    "scaler = StandardScaler ()\n",
    "# Transformasikan data\n",
    "scaled = scaler.fit_transform(data)\n",
    "print ('Data Standarisasi' )\n",
    "print (scaled)"
   ]
  },
  {
   "cell_type": "markdown",
   "metadata": {},
   "source": [
    "3. Implementasi Ordinal Encoding"
   ]
  },
  {
   "cell_type": "code",
   "execution_count": 2,
   "metadata": {},
   "outputs": [
    {
     "name": "stdout",
     "output_type": "stream",
     "text": [
      "Data Asli\n",
      "[['Politeknik Negeri Malang'], ['Politeknik Elektronika Negeri Surabaya'], ['Politeknik Negeri Jakarata'], ['Politeknik Negeri Semarang']]\n",
      "Data Transformasi Ordinal Encoder\n",
      "[[2.]\n",
      " [0.]\n",
      " [1.]\n",
      " [3.]]\n"
     ]
    }
   ],
   "source": [
    "from sklearn.preprocessing import OrdinalEncoder\n",
    "\n",
    "# Inisiasi obyek Ordinal Encoder\n",
    "oe = OrdinalEncoder ()\n",
    "\n",
    "# Definisikan data\n",
    "# dalam bentuk 2d\n",
    "data = [\n",
    "['Politeknik Negeri Malang' ],\n",
    "['Politeknik Elektronika Negeri Surabaya'],\n",
    "['Politeknik Negeri Jakarata' ],\n",
    "['Politeknik Negeri Semarang' ]\n",
    "]\n",
    "\n",
    "# Transformasi Ordinal Encoder\n",
    "transform_oe = oe.fit_transform(data)\n",
    "\n",
    "print('Data Asli' )\n",
    "print(data)\n",
    "\n",
    "print('Data Transformasi Ordinal Encoder')\n",
    "print(transform_oe)"
   ]
  },
  {
   "cell_type": "markdown",
   "metadata": {},
   "source": [
    "4. Implementasi One-Hot Encoding"
   ]
  },
  {
   "cell_type": "code",
   "execution_count": 4,
   "metadata": {},
   "outputs": [
    {
     "name": "stdout",
     "output_type": "stream",
     "text": [
      "Data Asli\n",
      "[['Politeknik Negeri Malang'], ['Politeknik Elektronika Negeri Surabaya'], ['Politeknik Negeri Jakarata'], ['Politeknik Negeri Semarang']]\n",
      "Data Transformasi One-Hot Encoding\n",
      "[[0. 0. 1. 0.]\n",
      " [1. 0. 0. 0.]\n",
      " [0. 1. 0. 0.]\n",
      " [0. 0. 0. 1.]]\n"
     ]
    }
   ],
   "source": [
    "from sklearn.preprocessing import OneHotEncoder\n",
    "\n",
    "# Inisiasi obyek Ordinal Encoder\n",
    "ohe = OneHotEncoder ()\n",
    "\n",
    "# Definisikan data\n",
    "# dalam bentuk 2d\n",
    "data = [\n",
    "['Politeknik Negeri Malang'],\n",
    "['Politeknik Elektronika Negeri Surabaya'],\n",
    "['Politeknik Negeri Jakarata'],\n",
    "['Politeknik Negeri Semarang']\n",
    "]\n",
    "\n",
    "# Transformasi Ordinal Encoder\n",
    "transform_ohe = ohe.fit_transform(data)\n",
    "\n",
    "print('Data Asli')\n",
    "print(data)\n",
    "\n",
    "print('Data Transformasi One-Hot Encoding' )\n",
    "print(transform_ohe.toarray())"
   ]
  },
  {
   "cell_type": "markdown",
   "metadata": {},
   "source": [
    "5. Implementasi Dummy Variable Encoding"
   ]
  },
  {
   "cell_type": "code",
   "execution_count": 5,
   "metadata": {},
   "outputs": [
    {
     "name": "stdout",
     "output_type": "stream",
     "text": [
      "Data Asli\n",
      "[['Politeknik Negeri Malang'], ['Politeknik Elektronika Negeri Surabaya'], ['Politeknik Negeri Jakarata'], ['Politeknik Negeri Semarang']]\n",
      "Data Transformasi One-Hot Encoding\n",
      "[[0. 1. 0.]\n",
      " [0. 0. 0.]\n",
      " [1. 0. 0.]\n",
      " [0. 0. 1.]]\n"
     ]
    }
   ],
   "source": [
    "from sklearn.preprocessing import OneHotEncoder\n",
    "\n",
    "# Inisiasi obyek Ordinal Encoder\n",
    "de = OneHotEncoder (drop='first' )\n",
    "\n",
    "# Definisikan data\n",
    "# dalam bentuk 2d\n",
    "data = [\n",
    "['Politeknik Negeri Malang' ],\n",
    "['Politeknik Elektronika Negeri Surabaya'],\n",
    "['Politeknik Negeri Jakarata'],\n",
    "['Politeknik Negeri Semarang' ]\n",
    "]\n",
    "\n",
    "# Transformasi Ordinal Encoder\n",
    "transform_de = de.fit_transform(data)\n",
    "\n",
    "print('Data Asli' )\n",
    "print(data)\n",
    "\n",
    "print('Data Transformasi One-Hot Encoding')\n",
    "print (transform_de.toarray ( ) )"
   ]
  }
 ],
 "metadata": {
  "kernelspec": {
   "display_name": "Python 3",
   "language": "python",
   "name": "python3"
  },
  "language_info": {
   "codemirror_mode": {
    "name": "ipython",
    "version": 3
   },
   "file_extension": ".py",
   "mimetype": "text/x-python",
   "name": "python",
   "nbconvert_exporter": "python",
   "pygments_lexer": "ipython3",
   "version": "3.12.5"
  }
 },
 "nbformat": 4,
 "nbformat_minor": 2
}
