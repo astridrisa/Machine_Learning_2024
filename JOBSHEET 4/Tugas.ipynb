{
 "cells": [
  {
   "cell_type": "markdown",
   "metadata": {},
   "source": [
    "# **Tugas Praktikum**"
   ]
  },
  {
   "cell_type": "markdown",
   "metadata": {},
   "source": [
    "\n",
    "1. Buatlah model klasifikasi dengan menggunakan SVM untuk data suara, voice.csv. \n",
    "\n",
    "2. Buatlah model klasfikasi Multinomial Naive Bayes dengan ketentuan,\n",
    "\n",
    "    1. Menggunakan data spam.csv\n",
    "\n",
    "    2. Fitur CountVectorizer dengan mengaktifkan stop_words\n",
    "\n",
    "    3. Evaluasi hasilnya\n",
    "\n",
    "3. Buatlah model klasfikasi Multinomial Naive Bayes dengan ketentuan,\n",
    "\n",
    "    1. Menggunakan data spam.csv\n",
    "\n",
    "    2. Fitur TF-IDF dengan mengaktifkan stop_words\n",
    "\n",
    "    3. Evaluasi hasilnya dan bandingkan dengan hasil pada Tugas no 2.\n",
    "\n",
    "    4. Berikan kesimpulan fitur mana yang terbaik pada kasus data spam.csv"
   ]
  },
  {
   "cell_type": "markdown",
   "metadata": {},
   "source": [
    "# **Jawaban Tugas**"
   ]
  },
  {
   "cell_type": "markdown",
   "metadata": {},
   "source": [
    "## **1. Model Klasifikasi dengan SVM untuk Data Suara**\n",
    "\n",
    "Pertama, pastikan Anda sudah memiliki file voice.csv. Berikut adalah langkah-langkah dan kode untuk membuat model SVM."
   ]
  },
  {
   "cell_type": "markdown",
   "metadata": {},
   "source": [
    "**a. Memuat dan Mempersiapkan Data**"
   ]
  },
  {
   "cell_type": "code",
   "execution_count": 1,
   "metadata": {},
   "outputs": [
    {
     "name": "stdout",
     "output_type": "stream",
     "text": [
      "SVM Accuracy: 0.9826498422712934\n",
      "              precision    recall  f1-score   support\n",
      "\n",
      "      female       0.98      0.99      0.98       297\n",
      "        male       0.99      0.98      0.98       337\n",
      "\n",
      "    accuracy                           0.98       634\n",
      "   macro avg       0.98      0.98      0.98       634\n",
      "weighted avg       0.98      0.98      0.98       634\n",
      "\n"
     ]
    }
   ],
   "source": [
    "import pandas as pd\n",
    "from sklearn.model_selection import train_test_split\n",
    "from sklearn.preprocessing import StandardScaler\n",
    "from sklearn.svm import SVC\n",
    "from sklearn.metrics import accuracy_score, classification_report\n",
    "\n",
    "# Memuat data\n",
    "data = pd.read_csv('data/voice.csv')\n",
    "\n",
    "# Misalkan kolom target bernama 'label'\n",
    "X = data.drop(columns=['label'])\n",
    "y = data['label']\n",
    "\n",
    "# Membagi data menjadi data latih dan data uji\n",
    "X_train, X_test, y_train, y_test = train_test_split(X, y, test_size=0.2, random_state=42)\n",
    "\n",
    "# Menstandarisasi fitur\n",
    "scaler = StandardScaler()\n",
    "X_train_scaled = scaler.fit_transform(X_train)\n",
    "X_test_scaled = scaler.transform(X_test)\n",
    "\n",
    "# Membuat model SVM\n",
    "svm_model = SVC()\n",
    "svm_model.fit(X_train_scaled, y_train)\n",
    "\n",
    "# Memprediksi dan mengevaluasi\n",
    "y_pred = svm_model.predict(X_test_scaled)\n",
    "print(\"SVM Accuracy:\", accuracy_score(y_test, y_pred))\n",
    "print(classification_report(y_test, y_pred))\n"
   ]
  },
  {
   "cell_type": "markdown",
   "metadata": {},
   "source": [
    "## **2. Model Klasifikasi Multinomial Naive Bayes dengan CountVectorizer**\n",
    "\n",
    "Untuk menggunakan CountVectorizer dengan stop words, kita akan bekerja dengan data teks seperti spam.csv."
   ]
  },
  {
   "cell_type": "markdown",
   "metadata": {},
   "source": [
    "**a. Memuat dan Mempersiapkan Data**"
   ]
  },
  {
   "cell_type": "code",
   "execution_count": 3,
   "metadata": {},
   "outputs": [
    {
     "name": "stdout",
     "output_type": "stream",
     "text": [
      "CountVectorizer + Naive Bayes Accuracy: 0.9838565022421525\n",
      "              precision    recall  f1-score   support\n",
      "\n",
      "         ham       0.99      0.99      0.99       965\n",
      "        spam       0.96      0.92      0.94       150\n",
      "\n",
      "    accuracy                           0.98      1115\n",
      "   macro avg       0.97      0.96      0.96      1115\n",
      "weighted avg       0.98      0.98      0.98      1115\n",
      "\n"
     ]
    }
   ],
   "source": [
    "from sklearn.feature_extraction.text import CountVectorizer\n",
    "from sklearn.naive_bayes import MultinomialNB\n",
    "from sklearn.pipeline import Pipeline\n",
    "from sklearn.metrics import accuracy_score, classification_report\n",
    "\n",
    "# Memuat data\n",
    "spam_data = pd.read_csv('data/spam.csv', encoding='latin-1')\n",
    "spam_data = spam_data[['v1', 'v2']]  # Misalkan kolom 'v1' adalah label dan 'v2' adalah teks\n",
    "spam_data.columns = ['label', 'text']\n",
    "\n",
    "# Membagi data menjadi data latih dan data uji\n",
    "X_train, X_test, y_train, y_test = train_test_split(spam_data['text'], spam_data['label'], test_size=0.2, random_state=42)\n",
    "\n",
    "# Pipeline untuk CountVectorizer dan Multinomial Naive Bayes\n",
    "pipeline_count = Pipeline([\n",
    "    ('vect', CountVectorizer(stop_words='english')),\n",
    "    ('clf', MultinomialNB())\n",
    "])\n",
    "\n",
    "pipeline_count.fit(X_train, y_train)\n",
    "y_pred_count = pipeline_count.predict(X_test)\n",
    "\n",
    "print(\"CountVectorizer + Naive Bayes Accuracy:\", accuracy_score(y_test, y_pred_count))\n",
    "print(classification_report(y_test, y_pred_count))\n"
   ]
  },
  {
   "cell_type": "markdown",
   "metadata": {},
   "source": [
    "## **Evaluasi Hasil**\n",
    "\n",
    "Model klasifikasi menggunakan CountVectorizer dengan Naive Bayes menunjukkan performa yang sangat baik, dengan akurasi mencapai 98.39%. Precision, recall, dan F1-score untuk kategori 'ham' sangat tinggi (masing-masing 0.99), menandakan model ini sangat efektif dalam mendeteksi email non-spam. Untuk kategori 'spam', meskipun precision (0.96) dan recall (0.92) sedikit lebih rendah, F1-score tetap kuat di 0.94. Rata-rata metrik untuk kedua kategori (macro average) dan keseluruhan (weighted average) juga menunjukkan hasil yang solid. Secara keseluruhan, model ini sangat akurat dan seimbang dalam menangani kedua kategori email."
   ]
  },
  {
   "cell_type": "markdown",
   "metadata": {},
   "source": [
    "## **3. Model Klasifikasi Multinomial Naive Bayes dengan TF-IDF**\n",
    "\n",
    "Kali ini kita akan menggunakan TfidfVectorizer dengan stop words."
   ]
  },
  {
   "cell_type": "markdown",
   "metadata": {},
   "source": [
    "**a. Memuat dan Mempersiapkan Data**"
   ]
  },
  {
   "cell_type": "code",
   "execution_count": 4,
   "metadata": {},
   "outputs": [
    {
     "name": "stdout",
     "output_type": "stream",
     "text": [
      "TF-IDF + Naive Bayes Accuracy: 0.9668161434977578\n",
      "              precision    recall  f1-score   support\n",
      "\n",
      "         ham       0.96      1.00      0.98       965\n",
      "        spam       1.00      0.75      0.86       150\n",
      "\n",
      "    accuracy                           0.97      1115\n",
      "   macro avg       0.98      0.88      0.92      1115\n",
      "weighted avg       0.97      0.97      0.96      1115\n",
      "\n"
     ]
    }
   ],
   "source": [
    "from sklearn.feature_extraction.text import TfidfVectorizer\n",
    "\n",
    "# Pipeline untuk TF-IDF dan Multinomial Naive Bayes\n",
    "pipeline_tfidf = Pipeline([\n",
    "    ('tfidf', TfidfVectorizer(stop_words='english')),\n",
    "    ('clf', MultinomialNB())\n",
    "])\n",
    "\n",
    "pipeline_tfidf.fit(X_train, y_train)\n",
    "y_pred_tfidf = pipeline_tfidf.predict(X_test)\n",
    "\n",
    "print(\"TF-IDF + Naive Bayes Accuracy:\", accuracy_score(y_test, y_pred_tfidf))\n",
    "print(classification_report(y_test, y_pred_tfidf))\n"
   ]
  },
  {
   "cell_type": "markdown",
   "metadata": {},
   "source": [
    "## **Evaluasi Hasil dan Perbandingan dnegan CountVectorizer**"
   ]
  },
  {
   "cell_type": "markdown",
   "metadata": {},
   "source": [
    "Model klasifikasi menggunakan CountVectorizer dan TF-IDF menunjukkan perbedaan dalam performa meskipun keduanya memiliki kelebihan masing-masing. Akurasi model dengan CountVectorizer lebih tinggi pada 98.39% dibandingkan dengan 96.68% dari TF-IDF, menandakan bahwa CountVectorizer sedikit lebih baik dalam memprediksi kelas secara keseluruhan. Untuk kategori 'ham', CountVectorizer mencatat precision dan recall yang lebih tinggi (0.99) dibandingkan dengan TF-IDF, yang memiliki precision 0.96 dan recall sempurna (1.00). Ini berarti CountVectorizer lebih konsisten dalam mengidentifikasi email non-spam, sementara TF-IDF lebih baik dalam mendeteksi email non-spam tetapi dengan penurunan precision. Di sisi lain, untuk kategori 'spam', TF-IDF memiliki precision sempurna (1.00) tetapi dengan recall yang lebih rendah (0.75) dibandingkan dengan CountVectorizer yang memiliki precision 0.96 dan recall 0.92. Ini menunjukkan bahwa TF-IDF lebih akurat dalam mengidentifikasi email spam yang benar, tetapi mungkin melewatkan beberapa email spam. Dalam hal rata-rata metrik, CountVectorizer menunjukkan nilai macro average dan weighted average yang lebih baik untuk precision dan recall, sedangkan TF-IDF sedikit lebih baik dalam precision pada macro average namun dengan recall yang lebih rendah. Pilihan antara kedua metode ini tergantung pada prioritas aplikasi: apakah lebih penting memiliki akurasi keseluruhan yang lebih tinggi atau precision dalam mengidentifikasi spam dengan benar."
   ]
  },
  {
   "cell_type": "markdown",
   "metadata": {},
   "source": [
    "## **Kesimpulan fitur mana yang terbaik pada kasus data spam.csv**"
   ]
  },
  {
   "cell_type": "markdown",
   "metadata": {},
   "source": [
    "Model dengan CountVectorizer secara keseluruhan lebih baik dalam hal akurasi dan memberikan keseimbangan yang lebih baik antara precision dan recall untuk kedua kategori. Namun, model dengan TF-IDF menunjukkan keunggulan dalam precision untuk kategori 'spam' dan recall sempurna untuk kategori 'ham'. Pilihan terbaik tergantung pada prioritas aplikasi: jika mengutamakan akurasi keseluruhan, CountVectorizer mungkin lebih unggul; jika precision untuk 'spam' lebih penting, TF-IDF bisa menjadi pilihan."
   ]
  },
  {
   "cell_type": "markdown",
   "metadata": {},
   "source": []
  }
 ],
 "metadata": {
  "kernelspec": {
   "display_name": "base",
   "language": "python",
   "name": "python3"
  },
  "language_info": {
   "codemirror_mode": {
    "name": "ipython",
    "version": 3
   },
   "file_extension": ".py",
   "mimetype": "text/x-python",
   "name": "python",
   "nbconvert_exporter": "python",
   "pygments_lexer": "ipython3",
   "version": "3.12.4"
  }
 },
 "nbformat": 4,
 "nbformat_minor": 2
}
