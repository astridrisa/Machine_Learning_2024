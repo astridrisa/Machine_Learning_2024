{
 "cells": [
  {
   "cell_type": "markdown",
   "metadata": {},
   "source": [
    "Tugas Praktikum\n",
    "1. Salin kalimat pada Kode 1-7 dengan tanda baca titik pada setiap\n",
    "kalimatnya dengan menggunakan editor teks.\n",
    "2. Simpan kalimat tersebut pada file ‘.txt’ dengan nama ‘corpus.txt’.\n",
    "3. Lakukan proses ektraksi fitur TF-IDF dengan menggunakan file\n",
    "‘corpus.txt’."
   ]
  },
  {
   "cell_type": "code",
   "execution_count": 5,
   "metadata": {},
   "outputs": [
    {
     "name": "stdout",
     "output_type": "stream",
     "text": [
      "Hasil TF-IDF (Sparse Matrix):\n",
      "<Compressed Sparse Row sparse matrix of dtype 'float64'\n",
      "\twith 18 stored elements and shape (5, 12)>\n",
      "  Coords\tValues\n",
      "  (0, 5)\t0.47557510189256375\n",
      "  (0, 11)\t0.5894630806320427\n",
      "  (0, 6)\t0.5894630806320427\n",
      "  (0, 7)\t0.2808823162882302\n",
      "  (1, 7)\t0.3477147117091919\n",
      "  (1, 2)\t0.5887321837696324\n",
      "  (1, 9)\t0.7297183669435993\n",
      "  (2, 5)\t0.47557510189256375\n",
      "  (2, 7)\t0.2808823162882302\n",
      "  (2, 8)\t0.5894630806320427\n",
      "  (2, 1)\t0.5894630806320427\n",
      "  (3, 7)\t0.2808823162882302\n",
      "  (3, 2)\t0.47557510189256375\n",
      "  (3, 4)\t0.5894630806320427\n",
      "  (3, 0)\t0.5894630806320427\n",
      "  (4, 7)\t0.3193023297639811\n",
      "  (4, 3)\t0.6700917930430479\n",
      "  (4, 10)\t0.6700917930430479\n",
      "Hasil Token (Fitur yang Digunakan):\n",
      "['ate' 'away' 'cat' 'end' 'finally' 'house' 'little' 'mouse' 'ran' 'saw'\n",
      " 'story' 'tiny']\n"
     ]
    }
   ],
   "source": [
    "from sklearn.feature_extraction.text import TfidfVectorizer\n",
    "\n",
    "# Buka dan baca file corpus.txt\n",
    "with open('corpus.txt', 'r') as file:\n",
    "    corpus = file.readlines()\n",
    "\n",
    "# Hapus karakter newline pada setiap kalimat\n",
    "corpus = [line.strip() for line in corpus]\n",
    "\n",
    "# Inisiasi obyek TFidfVectorizer\n",
    "vect = TfidfVectorizer(stop_words='english')\n",
    "\n",
    "# Pembobotan TF-IDF\n",
    "resp = vect.fit_transform(corpus)\n",
    "\n",
    "# Cetak hasil TF-IDF (Matriks Sparse)\n",
    "print('Hasil TF-IDF (Sparse Matrix):')\n",
    "print(resp)\n",
    "\n",
    "# Cetak token setelah penghapusan stopword\n",
    "print('Hasil Token (Fitur yang Digunakan):')\n",
    "print(vect.get_feature_names_out())"
   ]
  }
 ],
 "metadata": {
  "kernelspec": {
   "display_name": "Python 3",
   "language": "python",
   "name": "python3"
  },
  "language_info": {
   "codemirror_mode": {
    "name": "ipython",
    "version": 3
   },
   "file_extension": ".py",
   "mimetype": "text/x-python",
   "name": "python",
   "nbconvert_exporter": "python",
   "pygments_lexer": "ipython3",
   "version": "3.12.5"
  }
 },
 "nbformat": 4,
 "nbformat_minor": 2
}
